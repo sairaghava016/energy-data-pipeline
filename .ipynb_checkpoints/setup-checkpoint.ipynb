{
 "cells": [
  {
   "cell_type": "code",
   "execution_count": 2,
   "id": "4f0f0f91-d102-4c9e-93ca-1a37750d4bf5",
   "metadata": {},
   "outputs": [
    {
     "name": "stdout",
     "output_type": "stream",
     "text": [
      "Requirement already satisfied: boto3 in c:\\users\\saira\\anaconda3\\lib\\site-packages (1.24.28)\n",
      "Requirement already satisfied: fastapi in c:\\users\\saira\\anaconda3\\lib\\site-packages (0.115.12)\n",
      "Requirement already satisfied: uvicorn in c:\\users\\saira\\anaconda3\\lib\\site-packages (0.34.3)\n",
      "Requirement already satisfied: matplotlib in c:\\users\\saira\\anaconda3\\lib\\site-packages (3.10.0)\n",
      "Requirement already satisfied: seaborn in c:\\users\\saira\\anaconda3\\lib\\site-packages (0.13.2)\n",
      "Requirement already satisfied: plotly in c:\\users\\saira\\anaconda3\\lib\\site-packages (6.0.1)\n",
      "Requirement already satisfied: botocore<1.28.0,>=1.27.28 in c:\\users\\saira\\anaconda3\\lib\\site-packages (from boto3) (1.27.59)\n",
      "Requirement already satisfied: jmespath<2.0.0,>=0.7.1 in c:\\users\\saira\\anaconda3\\lib\\site-packages (from boto3) (1.0.1)\n",
      "Requirement already satisfied: s3transfer<0.7.0,>=0.6.0 in c:\\users\\saira\\anaconda3\\lib\\site-packages (from boto3) (0.6.0)\n",
      "Requirement already satisfied: starlette<0.47.0,>=0.40.0 in c:\\users\\saira\\anaconda3\\lib\\site-packages (from fastapi) (0.46.2)\n",
      "Requirement already satisfied: pydantic!=1.8,!=1.8.1,!=2.0.0,!=2.0.1,!=2.1.0,<3.0.0,>=1.7.4 in c:\\users\\saira\\anaconda3\\lib\\site-packages (from fastapi) (2.10.3)\n",
      "Requirement already satisfied: typing-extensions>=4.8.0 in c:\\users\\saira\\anaconda3\\lib\\site-packages (from fastapi) (4.12.2)\n",
      "Requirement already satisfied: click>=7.0 in c:\\users\\saira\\anaconda3\\lib\\site-packages (from uvicorn) (8.1.8)\n",
      "Requirement already satisfied: h11>=0.8 in c:\\users\\saira\\anaconda3\\lib\\site-packages (from uvicorn) (0.16.0)\n",
      "Requirement already satisfied: contourpy>=1.0.1 in c:\\users\\saira\\anaconda3\\lib\\site-packages (from matplotlib) (1.3.1)\n",
      "Requirement already satisfied: cycler>=0.10 in c:\\users\\saira\\anaconda3\\lib\\site-packages (from matplotlib) (0.11.0)\n",
      "Requirement already satisfied: fonttools>=4.22.0 in c:\\users\\saira\\anaconda3\\lib\\site-packages (from matplotlib) (4.55.3)\n",
      "Requirement already satisfied: kiwisolver>=1.3.1 in c:\\users\\saira\\anaconda3\\lib\\site-packages (from matplotlib) (1.4.8)\n",
      "Requirement already satisfied: numpy>=1.23 in c:\\users\\saira\\anaconda3\\lib\\site-packages (from matplotlib) (1.26.4)\n",
      "Requirement already satisfied: packaging>=20.0 in c:\\users\\saira\\anaconda3\\lib\\site-packages (from matplotlib) (24.2)\n",
      "Requirement already satisfied: pillow>=8 in c:\\users\\saira\\anaconda3\\lib\\site-packages (from matplotlib) (11.1.0)\n",
      "Requirement already satisfied: pyparsing>=2.3.1 in c:\\users\\saira\\anaconda3\\lib\\site-packages (from matplotlib) (3.2.0)\n",
      "Requirement already satisfied: python-dateutil>=2.7 in c:\\users\\saira\\anaconda3\\lib\\site-packages (from matplotlib) (2.9.0.post0)\n",
      "Requirement already satisfied: pandas>=1.2 in c:\\users\\saira\\anaconda3\\lib\\site-packages (from seaborn) (2.2.3)\n",
      "Requirement already satisfied: narwhals>=1.15.1 in c:\\users\\saira\\anaconda3\\lib\\site-packages (from plotly) (1.31.0)\n",
      "Requirement already satisfied: urllib3<1.27,>=1.25.4 in c:\\users\\saira\\anaconda3\\lib\\site-packages (from botocore<1.28.0,>=1.27.28->boto3) (1.26.19)\n",
      "Requirement already satisfied: colorama in c:\\users\\saira\\anaconda3\\lib\\site-packages (from click>=7.0->uvicorn) (0.4.6)\n",
      "Requirement already satisfied: pytz>=2020.1 in c:\\users\\saira\\anaconda3\\lib\\site-packages (from pandas>=1.2->seaborn) (2024.1)\n",
      "Requirement already satisfied: tzdata>=2022.7 in c:\\users\\saira\\anaconda3\\lib\\site-packages (from pandas>=1.2->seaborn) (2025.2)\n",
      "Requirement already satisfied: annotated-types>=0.6.0 in c:\\users\\saira\\anaconda3\\lib\\site-packages (from pydantic!=1.8,!=1.8.1,!=2.0.0,!=2.0.1,!=2.1.0,<3.0.0,>=1.7.4->fastapi) (0.6.0)\n",
      "Requirement already satisfied: pydantic-core==2.27.1 in c:\\users\\saira\\anaconda3\\lib\\site-packages (from pydantic!=1.8,!=1.8.1,!=2.0.0,!=2.0.1,!=2.1.0,<3.0.0,>=1.7.4->fastapi) (2.27.1)\n",
      "Requirement already satisfied: six>=1.5 in c:\\users\\saira\\anaconda3\\lib\\site-packages (from python-dateutil>=2.7->matplotlib) (1.17.0)\n",
      "Requirement already satisfied: anyio<5,>=3.6.2 in c:\\users\\saira\\anaconda3\\lib\\site-packages (from starlette<0.47.0,>=0.40.0->fastapi) (4.7.0)\n",
      "Requirement already satisfied: idna>=2.8 in c:\\users\\saira\\anaconda3\\lib\\site-packages (from anyio<5,>=3.6.2->starlette<0.47.0,>=0.40.0->fastapi) (3.7)\n",
      "Requirement already satisfied: sniffio>=1.1 in c:\\users\\saira\\anaconda3\\lib\\site-packages (from anyio<5,>=3.6.2->starlette<0.47.0,>=0.40.0->fastapi) (1.3.0)\n"
     ]
    }
   ],
   "source": [
    "!pip install boto3 fastapi uvicorn matplotlib seaborn plotly"
   ]
  },
  {
   "cell_type": "code",
   "execution_count": 3,
   "id": "02f4bcbb-63db-4d57-a812-ea0937a650af",
   "metadata": {},
   "outputs": [],
   "source": [
    "!pip freeze > requirements.txt"
   ]
  },
  {
   "cell_type": "code",
   "execution_count": 4,
   "id": "fcec21ee-22a6-426c-9ada-86f39a024ba5",
   "metadata": {},
   "outputs": [
    {
     "name": "stdout",
     "output_type": "stream",
     "text": [
      "Found existing installation: numpy 1.26.4\n",
      "Uninstalling numpy-1.26.4:\n",
      "  Successfully uninstalled numpy-1.26.4\n"
     ]
    },
    {
     "name": "stderr",
     "output_type": "stream",
     "text": [
      "ERROR: Exception:\n",
      "Traceback (most recent call last):\n",
      "  File \"C:\\Users\\saira\\anaconda3\\Lib\\site-packages\\pip\\_internal\\cli\\base_command.py\", line 180, in exc_logging_wrapper\n",
      "    status = run_func(*args)\n",
      "             ^^^^^^^^^^^^^^^\n",
      "  File \"C:\\Users\\saira\\anaconda3\\Lib\\site-packages\\pip\\_internal\\commands\\uninstall.py\", line 110, in run\n",
      "    uninstall_pathset.commit()\n",
      "  File \"C:\\Users\\saira\\anaconda3\\Lib\\site-packages\\pip\\_internal\\req\\req_uninstall.py\", line 432, in commit\n",
      "    self._moved_paths.commit()\n",
      "  File \"C:\\Users\\saira\\anaconda3\\Lib\\site-packages\\pip\\_internal\\req\\req_uninstall.py\", line 278, in commit\n",
      "    save_dir.cleanup()\n",
      "  File \"C:\\Users\\saira\\anaconda3\\Lib\\site-packages\\pip\\_internal\\utils\\temp_dir.py\", line 173, in cleanup\n",
      "    rmtree(self._path)\n",
      "  File \"C:\\Users\\saira\\anaconda3\\Lib\\site-packages\\pip\\_vendor\\tenacity\\__init__.py\", line 291, in wrapped_f\n",
      "    return self(f, *args, **kw)\n",
      "           ^^^^^^^^^^^^^^^^^^^^\n",
      "  File \"C:\\Users\\saira\\anaconda3\\Lib\\site-packages\\pip\\_vendor\\tenacity\\__init__.py\", line 381, in __call__\n",
      "    do = self.iter(retry_state=retry_state)\n",
      "         ^^^^^^^^^^^^^^^^^^^^^^^^^^^^^^^^^^\n",
      "  File \"C:\\Users\\saira\\anaconda3\\Lib\\site-packages\\pip\\_vendor\\tenacity\\__init__.py\", line 327, in iter\n",
      "    raise retry_exc.reraise()\n",
      "          ^^^^^^^^^^^^^^^^^^^\n",
      "  File \"C:\\Users\\saira\\anaconda3\\Lib\\site-packages\\pip\\_vendor\\tenacity\\__init__.py\", line 160, in reraise\n",
      "    raise self.last_attempt.result()\n",
      "          ^^^^^^^^^^^^^^^^^^^^^^^^^^\n",
      "  File \"C:\\Users\\saira\\anaconda3\\Lib\\concurrent\\futures\\_base.py\", line 449, in result\n",
      "    return self.__get_result()\n",
      "           ^^^^^^^^^^^^^^^^^^^\n",
      "  File \"C:\\Users\\saira\\anaconda3\\Lib\\concurrent\\futures\\_base.py\", line 401, in __get_result\n",
      "    raise self._exception\n",
      "  File \"C:\\Users\\saira\\anaconda3\\Lib\\site-packages\\pip\\_vendor\\tenacity\\__init__.py\", line 384, in __call__\n",
      "    result = fn(*args, **kwargs)\n",
      "             ^^^^^^^^^^^^^^^^^^^\n",
      "  File \"C:\\Users\\saira\\anaconda3\\Lib\\site-packages\\pip\\_internal\\utils\\misc.py\", line 130, in rmtree\n",
      "    shutil.rmtree(dir, ignore_errors=ignore_errors, onerror=rmtree_errorhandler)\n",
      "  File \"C:\\Users\\saira\\anaconda3\\Lib\\shutil.py\", line 787, in rmtree\n",
      "    return _rmtree_unsafe(path, onerror)\n",
      "           ^^^^^^^^^^^^^^^^^^^^^^^^^^^^^\n",
      "  File \"C:\\Users\\saira\\anaconda3\\Lib\\shutil.py\", line 629, in _rmtree_unsafe\n",
      "    _rmtree_unsafe(fullname, onerror)\n",
      "  File \"C:\\Users\\saira\\anaconda3\\Lib\\shutil.py\", line 629, in _rmtree_unsafe\n",
      "    _rmtree_unsafe(fullname, onerror)\n",
      "  File \"C:\\Users\\saira\\anaconda3\\Lib\\shutil.py\", line 634, in _rmtree_unsafe\n",
      "    onerror(os.unlink, fullname, sys.exc_info())\n",
      "  File \"C:\\Users\\saira\\anaconda3\\Lib\\shutil.py\", line 632, in _rmtree_unsafe\n",
      "    os.unlink(fullname)\n",
      "PermissionError: [WinError 5] Access is denied: 'C:\\\\Users\\\\saira\\\\AppData\\\\Local\\\\Temp\\\\pip-uninstall-2rs_0lp5\\\\numpy\\\\core\\\\_multiarray_tests.cp311-win_amd64.pyd'\n"
     ]
    }
   ],
   "source": [
    "!pip uninstall -y numpy"
   ]
  },
  {
   "cell_type": "code",
   "execution_count": 5,
   "id": "48dfd296-e8f1-4f9d-a305-86458e66aede",
   "metadata": {},
   "outputs": [
    {
     "name": "stdout",
     "output_type": "stream",
     "text": [
      "Collecting numpy\n",
      "  Obtaining dependency information for numpy from https://files.pythonhosted.org/packages/8c/4a/556406d2bb2b9874c8cbc840c962683ac28f21efbc9b01177d78f0199ca1/numpy-2.3.0-cp311-cp311-win_amd64.whl.metadata\n",
      "  Using cached numpy-2.3.0-cp311-cp311-win_amd64.whl.metadata (60 kB)\n",
      "Using cached numpy-2.3.0-cp311-cp311-win_amd64.whl (13.0 MB)\n",
      "Installing collected packages: numpy\n",
      "Successfully installed numpy-2.3.0\n"
     ]
    },
    {
     "name": "stderr",
     "output_type": "stream",
     "text": [
      "WARNING: Ignoring invalid distribution ~ (C:\\Users\\saira\\anaconda3\\Lib\\site-packages)\n",
      "WARNING: Ignoring invalid distribution ~ (C:\\Users\\saira\\anaconda3\\Lib\\site-packages)\n",
      "ERROR: pip's dependency resolver does not currently take into account all the packages that are installed. This behaviour is the source of the following dependency conflicts.\n",
      "astropy 5.3.4 requires numpy<2,>=1.21, but you have numpy 2.3.0 which is incompatible.\n",
      "gensim 4.3.3 requires numpy<2.0,>=1.18.5, but you have numpy 2.3.0 which is incompatible.\n",
      "numba 0.61.0 requires numpy<2.2,>=1.24, but you have numpy 2.3.0 which is incompatible.\n",
      "scipy 1.13.1 requires numpy<2.3,>=1.22.4, but you have numpy 2.3.0 which is incompatible.\n",
      "tensorflow-intel 2.18.0 requires numpy<2.1.0,>=1.26.0, but you have numpy 2.3.0 which is incompatible.\n"
     ]
    }
   ],
   "source": [
    "!pip install numpy"
   ]
  },
  {
   "cell_type": "code",
   "execution_count": 6,
   "id": "8ebcee34-841c-4925-b5c5-c14e870e7845",
   "metadata": {},
   "outputs": [
    {
     "name": "stdout",
     "output_type": "stream",
     "text": [
      "Collecting numpy==1.26.4\n",
      "  Obtaining dependency information for numpy==1.26.4 from https://files.pythonhosted.org/packages/3f/6b/5610004206cf7f8e7ad91c5a85a8c71b2f2f8051a0c0c4d5916b76d6cbb2/numpy-1.26.4-cp311-cp311-win_amd64.whl.metadata\n",
      "  Using cached numpy-1.26.4-cp311-cp311-win_amd64.whl.metadata (61 kB)\n",
      "Using cached numpy-1.26.4-cp311-cp311-win_amd64.whl (15.8 MB)\n",
      "Installing collected packages: numpy\n",
      "  Attempting uninstall: numpy\n",
      "    Found existing installation: numpy 2.3.0\n",
      "    Uninstalling numpy-2.3.0:\n",
      "      Successfully uninstalled numpy-2.3.0\n",
      "Successfully installed numpy-1.26.4\n"
     ]
    }
   ],
   "source": [
    "!pip install numpy==1.26.4"
   ]
  },
  {
   "cell_type": "code",
   "execution_count": 7,
   "id": "259ae17d-5fd9-4673-a476-bc4fe19a1b10",
   "metadata": {},
   "outputs": [
    {
     "name": "stdout",
     "output_type": "stream",
     "text": [
      "Requirement already satisfied: sentencepiece in c:\\users\\saira\\anaconda3\\lib\\site-packages (0.2.0)\n"
     ]
    }
   ],
   "source": [
    "!pip install sentencepiece"
   ]
  },
  {
   "cell_type": "code",
   "execution_count": 8,
   "id": "61a170a5-f872-429f-9bfe-4f8de71a3315",
   "metadata": {},
   "outputs": [],
   "source": [
    "!pip freeze > requirements.txt"
   ]
  },
  {
   "cell_type": "code",
   "execution_count": 9,
   "id": "0dd1b78c-2ea1-4340-be98-9ac71b018c58",
   "metadata": {},
   "outputs": [],
   "source": [
    "import os\n",
    "\n",
    "folders = [\n",
    "    \"data_simulator\",\n",
    "    \"lambda_processor\",\n",
    "    \"api\",\n",
    "    \"visualization\",\n",
    "    \"terraform\"\n",
    "]\n",
    "\n",
    "for folder in folders:\n",
    "    os.makedirs(folder, exist_ok=True)\n",
    "\n",
    "# Create empty files\n",
    "open(\"README.md\", \"w\").close()\n",
    "open(\".gitignore\", \"w\").close()\n",
    "open(\"data_simulator/simulator.py\", \"w\").close()\n",
    "open(\"lambda_processor/lambda_function.py\", \"w\").close()\n",
    "open(\"api/main.py\", \"w\").close()\n",
    "open(\"visualization/visualize.py\", \"w\").close()\n",
    "open(\"terraform/main.tf\", \"w\").close()"
   ]
  },
  {
   "cell_type": "code",
   "execution_count": 10,
   "id": "7b4c604a-9bfb-4041-a282-9a4062a6f4d2",
   "metadata": {},
   "outputs": [],
   "source": [
    "with open(\".gitignore\", \"w\") as f:\n",
    "    f.write(\"\"\"\n",
    "__pycache__/\n",
    "*.py[cod]\n",
    "venv/\n",
    ".env\n",
    ".terraform/\n",
    "*.tfstate\n",
    "*.pem\n",
    ".idea/\n",
    ".vscode/\n",
    "\"\"\")"
   ]
  },
  {
   "cell_type": "code",
   "execution_count": 11,
   "id": "3af1d97c-055c-47d4-92e1-97f7a78db7f7",
   "metadata": {},
   "outputs": [],
   "source": [
    "import boto3\n",
    "import json\n",
    "import random\n",
    "import time\n",
    "from datetime import datetime\n",
    "import uuid\n",
    "\n",
    "# Replace with your actual bucket name\n",
    "BUCKET_NAME = 'energy-data-pipeline-sai'\n",
    "\n",
    "# Initialize S3 client\n",
    "s3 = boto3.client('s3')\n",
    "\n",
    "def generate_data():\n",
    "    data = []\n",
    "    for i in range(5):  # simulate 5 sites\n",
    "        site_id = f\"site_{str(i).zfill(3)}\"\n",
    "        record = {\n",
    "            \"site_id\": site_id,\n",
    "            \"timestamp\": datetime.utcnow().isoformat(),\n",
    "            \"energy_generated_kwh\": round(random.uniform(50, 200), 2),\n",
    "            \"energy_consumed_kwh\": round(random.uniform(40, 180), 2)\n",
    "        }\n",
    "        data.append(record)\n",
    "    return data\n",
    "\n",
    "def upload_to_s3(data):\n",
    "    file_name = f\"data/energy_data_{uuid.uuid4()}.json\"\n",
    "    s3.put_object(\n",
    "        Bucket=BUCKET_NAME,\n",
    "        Key=file_name,\n",
    "        Body=json.dumps(data)\n",
    "    )\n",
    "    print(f\"Uploaded: {file_name}\")\n"
   ]
  },
  {
   "cell_type": "code",
   "execution_count": 12,
   "id": "70cb7f9a-c12d-4fee-b0df-7c7848becee6",
   "metadata": {},
   "outputs": [
    {
     "ename": "ImportError",
     "evalue": "cannot import name 'generate_data' from 'data_simulator.simulator' (C:\\Users\\saira\\energy-data-pipeline\\data_simulator\\simulator.py)",
     "output_type": "error",
     "traceback": [
      "\u001b[1;31m---------------------------------------------------------------------------\u001b[0m",
      "\u001b[1;31mImportError\u001b[0m                               Traceback (most recent call last)",
      "Cell \u001b[1;32mIn[12], line 1\u001b[0m\n\u001b[1;32m----> 1\u001b[0m \u001b[38;5;28;01mfrom\u001b[39;00m\u001b[38;5;250m \u001b[39m\u001b[38;5;21;01mdata_simulator\u001b[39;00m\u001b[38;5;21;01m.\u001b[39;00m\u001b[38;5;21;01msimulator\u001b[39;00m\u001b[38;5;250m \u001b[39m\u001b[38;5;28;01mimport\u001b[39;00m generate_data, upload_to_s3\n\u001b[0;32m      2\u001b[0m data \u001b[38;5;241m=\u001b[39m generate_data()\n\u001b[0;32m      3\u001b[0m upload_to_s3(data)\n",
      "\u001b[1;31mImportError\u001b[0m: cannot import name 'generate_data' from 'data_simulator.simulator' (C:\\Users\\saira\\energy-data-pipeline\\data_simulator\\simulator.py)"
     ]
    }
   ],
   "source": [
    "from data_simulator.simulator import generate_data, upload_to_s3\n",
    "data = generate_data()\n",
    "upload_to_s3(data)"
   ]
  },
  {
   "cell_type": "code",
   "execution_count": 13,
   "id": "dcc6ec95-e6d6-4ca3-be0a-b88717df14ba",
   "metadata": {},
   "outputs": [],
   "source": [
    "import boto3\n",
    "import json\n",
    "import random\n",
    "import uuid\n",
    "from datetime import datetime\n",
    "\n",
    "BUCKET_NAME = 'energy-data-pipeline-sai'\n",
    "s3 = boto3.client('s3')\n",
    "\n",
    "def generate_data():\n",
    "    data = []\n",
    "    for i in range(5):\n",
    "        site_id = f\"site_{str(i).zfill(3)}\"\n",
    "        record = {\n",
    "            \"site_id\": site_id,\n",
    "            \"timestamp\": datetime.utcnow().isoformat(),\n",
    "            \"energy_generated_kwh\": round(random.uniform(50, 200), 2),\n",
    "            \"energy_consumed_kwh\": round(random.uniform(40, 180), 2)\n",
    "        }\n",
    "        data.append(record)\n",
    "    return data\n",
    "\n",
    "def upload_to_s3(data):\n",
    "    file_name = f\"data/energy_data_{uuid.uuid4()}.json\"\n",
    "    s3.put_object(\n",
    "        Bucket=BUCKET_NAME,\n",
    "        Key=file_name,\n",
    "        Body=json.dumps(data)\n",
    "    )\n",
    "    print(f\"Uploaded: {file_name}\")\n"
   ]
  },
  {
   "cell_type": "code",
   "execution_count": 14,
   "id": "26b5168a-acab-4f48-8c1f-6f5b01e797e5",
   "metadata": {},
   "outputs": [
    {
     "name": "stdout",
     "output_type": "stream",
     "text": [
      "Uploaded: data/energy_data_76a3ff38-e709-48df-8a22-0b6f4bacb3bf.json\n"
     ]
    }
   ],
   "source": [
    "data = generate_data()\n",
    "upload_to_s3(data)"
   ]
  },
  {
   "cell_type": "code",
   "execution_count": 15,
   "id": "5f53172f-d795-4157-91f3-6a6abee63d19",
   "metadata": {},
   "outputs": [
    {
     "name": "stdout",
     "output_type": "stream",
     "text": [
      "Requirement already satisfied: boto3 in c:\\users\\saira\\anaconda3\\lib\\site-packages (1.24.28)\n",
      "Requirement already satisfied: pandas in c:\\users\\saira\\anaconda3\\lib\\site-packages (2.2.3)\n",
      "Collecting streamlit\n",
      "  Obtaining dependency information for streamlit from https://files.pythonhosted.org/packages/13/e6/69fcbae3dd2fcb2f54283a7cbe03c8b944b79997f1b526984f91d4796a02/streamlit-1.45.1-py3-none-any.whl.metadata\n",
      "  Downloading streamlit-1.45.1-py3-none-any.whl.metadata (8.9 kB)\n",
      "Requirement already satisfied: botocore<1.28.0,>=1.27.28 in c:\\users\\saira\\anaconda3\\lib\\site-packages (from boto3) (1.27.59)\n",
      "Requirement already satisfied: jmespath<2.0.0,>=0.7.1 in c:\\users\\saira\\anaconda3\\lib\\site-packages (from boto3) (1.0.1)\n",
      "Requirement already satisfied: s3transfer<0.7.0,>=0.6.0 in c:\\users\\saira\\anaconda3\\lib\\site-packages (from boto3) (0.6.0)\n",
      "Requirement already satisfied: numpy>=1.23.2 in c:\\users\\saira\\anaconda3\\lib\\site-packages (from pandas) (1.26.4)\n",
      "Requirement already satisfied: python-dateutil>=2.8.2 in c:\\users\\saira\\anaconda3\\lib\\site-packages (from pandas) (2.9.0.post0)\n",
      "Requirement already satisfied: pytz>=2020.1 in c:\\users\\saira\\anaconda3\\lib\\site-packages (from pandas) (2024.1)\n",
      "Requirement already satisfied: tzdata>=2022.7 in c:\\users\\saira\\anaconda3\\lib\\site-packages (from pandas) (2025.2)\n",
      "Collecting altair<6,>=4.0 (from streamlit)\n",
      "  Obtaining dependency information for altair<6,>=4.0 from https://files.pythonhosted.org/packages/aa/f3/0b6ced594e51cc95d8c1fc1640d3623770d01e4969d29c0bd09945fafefa/altair-5.5.0-py3-none-any.whl.metadata\n",
      "  Downloading altair-5.5.0-py3-none-any.whl.metadata (11 kB)\n",
      "Requirement already satisfied: blinker<2,>=1.5.0 in c:\\users\\saira\\anaconda3\\lib\\site-packages (from streamlit) (1.9.0)\n",
      "Collecting cachetools<6,>=4.0 (from streamlit)\n",
      "  Obtaining dependency information for cachetools<6,>=4.0 from https://files.pythonhosted.org/packages/72/76/20fa66124dbe6be5cafeb312ece67de6b61dd91a0247d1ea13db4ebb33c2/cachetools-5.5.2-py3-none-any.whl.metadata\n",
      "  Downloading cachetools-5.5.2-py3-none-any.whl.metadata (5.4 kB)\n",
      "Requirement already satisfied: click<9,>=7.0 in c:\\users\\saira\\anaconda3\\lib\\site-packages (from streamlit) (8.1.8)\n",
      "Requirement already satisfied: packaging<25,>=20 in c:\\users\\saira\\anaconda3\\lib\\site-packages (from streamlit) (24.2)\n",
      "Requirement already satisfied: pillow<12,>=7.1.0 in c:\\users\\saira\\anaconda3\\lib\\site-packages (from streamlit) (11.1.0)\n",
      "Requirement already satisfied: protobuf<7,>=3.20 in c:\\users\\saira\\anaconda3\\lib\\site-packages (from streamlit) (5.28.3)\n",
      "Requirement already satisfied: pyarrow>=7.0 in c:\\users\\saira\\anaconda3\\lib\\site-packages (from streamlit) (19.0.0)\n",
      "Requirement already satisfied: requests<3,>=2.27 in c:\\users\\saira\\anaconda3\\lib\\site-packages (from streamlit) (2.32.3)\n",
      "Collecting tenacity<10,>=8.1.0 (from streamlit)\n",
      "  Obtaining dependency information for tenacity<10,>=8.1.0 from https://files.pythonhosted.org/packages/e5/30/643397144bfbfec6f6ef821f36f33e57d35946c44a2352d3c9f0ae847619/tenacity-9.1.2-py3-none-any.whl.metadata\n",
      "  Downloading tenacity-9.1.2-py3-none-any.whl.metadata (1.2 kB)\n",
      "Collecting toml<2,>=0.10.1 (from streamlit)\n",
      "  Obtaining dependency information for toml<2,>=0.10.1 from https://files.pythonhosted.org/packages/44/6f/7120676b6d73228c96e17f1f794d8ab046fc910d781c8d151120c3f1569e/toml-0.10.2-py2.py3-none-any.whl.metadata\n",
      "  Downloading toml-0.10.2-py2.py3-none-any.whl.metadata (7.1 kB)\n",
      "Requirement already satisfied: typing-extensions<5,>=4.4.0 in c:\\users\\saira\\anaconda3\\lib\\site-packages (from streamlit) (4.12.2)\n",
      "Requirement already satisfied: watchdog<7,>=2.1.5 in c:\\users\\saira\\anaconda3\\lib\\site-packages (from streamlit) (4.0.2)\n",
      "Collecting gitpython!=3.1.19,<4,>=3.0.7 (from streamlit)\n",
      "  Obtaining dependency information for gitpython!=3.1.19,<4,>=3.0.7 from https://files.pythonhosted.org/packages/1d/9a/4114a9057db2f1462d5c8f8390ab7383925fe1ac012eaa42402ad65c2963/GitPython-3.1.44-py3-none-any.whl.metadata\n",
      "  Downloading GitPython-3.1.44-py3-none-any.whl.metadata (13 kB)\n",
      "Collecting pydeck<1,>=0.8.0b4 (from streamlit)\n",
      "  Obtaining dependency information for pydeck<1,>=0.8.0b4 from https://files.pythonhosted.org/packages/ab/4c/b888e6cf58bd9db9c93f40d1c6be8283ff49d88919231afe93a6bcf61626/pydeck-0.9.1-py2.py3-none-any.whl.metadata\n",
      "  Downloading pydeck-0.9.1-py2.py3-none-any.whl.metadata (4.1 kB)\n",
      "Requirement already satisfied: tornado<7,>=6.0.3 in c:\\users\\saira\\anaconda3\\lib\\site-packages (from streamlit) (6.5.1)\n",
      "Requirement already satisfied: jinja2 in c:\\users\\saira\\anaconda3\\lib\\site-packages (from altair<6,>=4.0->streamlit) (3.1.6)\n",
      "Requirement already satisfied: jsonschema>=3.0 in c:\\users\\saira\\anaconda3\\lib\\site-packages (from altair<6,>=4.0->streamlit) (4.23.0)\n",
      "Requirement already satisfied: narwhals>=1.14.2 in c:\\users\\saira\\anaconda3\\lib\\site-packages (from altair<6,>=4.0->streamlit) (1.31.0)\n",
      "Requirement already satisfied: urllib3<1.27,>=1.25.4 in c:\\users\\saira\\anaconda3\\lib\\site-packages (from botocore<1.28.0,>=1.27.28->boto3) (1.26.19)\n",
      "Requirement already satisfied: colorama in c:\\users\\saira\\anaconda3\\lib\\site-packages (from click<9,>=7.0->streamlit) (0.4.6)\n",
      "Collecting gitdb<5,>=4.0.1 (from gitpython!=3.1.19,<4,>=3.0.7->streamlit)\n",
      "  Obtaining dependency information for gitdb<5,>=4.0.1 from https://files.pythonhosted.org/packages/a0/61/5c78b91c3143ed5c14207f463aecfc8f9dbb5092fb2869baf37c273b2705/gitdb-4.0.12-py3-none-any.whl.metadata\n",
      "  Downloading gitdb-4.0.12-py3-none-any.whl.metadata (1.2 kB)\n",
      "Requirement already satisfied: six>=1.5 in c:\\users\\saira\\anaconda3\\lib\\site-packages (from python-dateutil>=2.8.2->pandas) (1.17.0)\n",
      "Requirement already satisfied: charset-normalizer<4,>=2 in c:\\users\\saira\\anaconda3\\lib\\site-packages (from requests<3,>=2.27->streamlit) (3.3.2)\n",
      "Requirement already satisfied: idna<4,>=2.5 in c:\\users\\saira\\anaconda3\\lib\\site-packages (from requests<3,>=2.27->streamlit) (3.7)\n",
      "Requirement already satisfied: certifi>=2017.4.17 in c:\\users\\saira\\anaconda3\\lib\\site-packages (from requests<3,>=2.27->streamlit) (2025.4.26)\n",
      "Collecting smmap<6,>=3.0.1 (from gitdb<5,>=4.0.1->gitpython!=3.1.19,<4,>=3.0.7->streamlit)\n",
      "  Obtaining dependency information for smmap<6,>=3.0.1 from https://files.pythonhosted.org/packages/04/be/d09147ad1ec7934636ad912901c5fd7667e1c858e19d355237db0d0cd5e4/smmap-5.0.2-py3-none-any.whl.metadata\n",
      "  Downloading smmap-5.0.2-py3-none-any.whl.metadata (4.3 kB)\n",
      "Requirement already satisfied: MarkupSafe>=2.0 in c:\\users\\saira\\anaconda3\\lib\\site-packages (from jinja2->altair<6,>=4.0->streamlit) (3.0.2)\n",
      "Requirement already satisfied: attrs>=22.2.0 in c:\\users\\saira\\anaconda3\\lib\\site-packages (from jsonschema>=3.0->altair<6,>=4.0->streamlit) (24.3.0)\n",
      "Requirement already satisfied: jsonschema-specifications>=2023.03.6 in c:\\users\\saira\\anaconda3\\lib\\site-packages (from jsonschema>=3.0->altair<6,>=4.0->streamlit) (2023.7.1)\n",
      "Requirement already satisfied: referencing>=0.28.4 in c:\\users\\saira\\anaconda3\\lib\\site-packages (from jsonschema>=3.0->altair<6,>=4.0->streamlit) (0.30.2)\n",
      "Requirement already satisfied: rpds-py>=0.7.1 in c:\\users\\saira\\anaconda3\\lib\\site-packages (from jsonschema>=3.0->altair<6,>=4.0->streamlit) (0.22.3)\n",
      "Downloading streamlit-1.45.1-py3-none-any.whl (9.9 MB)\n",
      "   ---------------------------------------- 0.0/9.9 MB ? eta -:--:--\n",
      "   ---------------------------------------- 0.1/9.9 MB 1.7 MB/s eta 0:00:06\n",
      "    --------------------------------------- 0.2/9.9 MB 2.1 MB/s eta 0:00:05\n",
      "   - -------------------------------------- 0.4/9.9 MB 3.4 MB/s eta 0:00:03\n",
      "   -- ------------------------------------- 0.7/9.9 MB 4.3 MB/s eta 0:00:03\n",
      "   ---- ----------------------------------- 1.1/9.9 MB 5.6 MB/s eta 0:00:02\n",
      "   ------ --------------------------------- 1.6/9.9 MB 6.4 MB/s eta 0:00:02\n",
      "   ------- -------------------------------- 1.8/9.9 MB 6.6 MB/s eta 0:00:02\n",
      "   ------- -------------------------------- 1.9/9.9 MB 5.7 MB/s eta 0:00:02\n",
      "   --------- ------------------------------ 2.2/9.9 MB 6.4 MB/s eta 0:00:02\n",
      "   ------------ --------------------------- 3.2/9.9 MB 8.1 MB/s eta 0:00:01\n",
      "   ------------- -------------------------- 3.3/9.9 MB 7.6 MB/s eta 0:00:01\n",
      "   --------------- ------------------------ 3.9/9.9 MB 8.1 MB/s eta 0:00:01\n",
      "   ---------------- ----------------------- 4.1/9.9 MB 8.2 MB/s eta 0:00:01\n",
      "   ----------------- ---------------------- 4.4/9.9 MB 7.6 MB/s eta 0:00:01\n",
      "   ---------------------- ----------------- 5.5/9.9 MB 8.7 MB/s eta 0:00:01\n",
      "   ----------------------- ---------------- 5.9/9.9 MB 9.0 MB/s eta 0:00:01\n",
      "   ------------------------- -------------- 6.3/9.9 MB 9.0 MB/s eta 0:00:01\n",
      "   --------------------------- ------------ 6.9/9.9 MB 9.2 MB/s eta 0:00:01\n",
      "   ------------------------------ --------- 7.4/9.9 MB 9.3 MB/s eta 0:00:01\n",
      "   -------------------------------- ------- 8.0/9.9 MB 9.5 MB/s eta 0:00:01\n",
      "   ---------------------------------- ----- 8.4/9.9 MB 9.6 MB/s eta 0:00:01\n",
      "   ------------------------------------ --- 8.9/9.9 MB 9.7 MB/s eta 0:00:01\n",
      "   ------------------------------------- -- 9.3/9.9 MB 9.6 MB/s eta 0:00:01\n",
      "   ---------------------------------------  9.8/9.9 MB 9.8 MB/s eta 0:00:01\n",
      "   ---------------------------------------  9.9/9.9 MB 9.8 MB/s eta 0:00:01\n",
      "   ---------------------------------------- 9.9/9.9 MB 9.4 MB/s eta 0:00:00\n",
      "Downloading altair-5.5.0-py3-none-any.whl (731 kB)\n",
      "   ---------------------------------------- 0.0/731.2 kB ? eta -:--:--\n",
      "   --------------------- ----------------- 409.6/731.2 kB 12.5 MB/s eta 0:00:01\n",
      "   ---------------------------------------- 731.2/731.2 kB 9.1 MB/s eta 0:00:00\n",
      "Downloading cachetools-5.5.2-py3-none-any.whl (10 kB)\n",
      "Downloading GitPython-3.1.44-py3-none-any.whl (207 kB)\n",
      "   ---------------------------------------- 0.0/207.6 kB ? eta -:--:--\n",
      "   ---------------------------------------- 207.6/207.6 kB 6.4 MB/s eta 0:00:00\n",
      "Downloading pydeck-0.9.1-py2.py3-none-any.whl (6.9 MB)\n",
      "   ---------------------------------------- 0.0/6.9 MB ? eta -:--:--\n",
      "   -- ------------------------------------- 0.5/6.9 MB 9.6 MB/s eta 0:00:01\n",
      "   ----- ---------------------------------- 0.9/6.9 MB 11.2 MB/s eta 0:00:01\n",
      "   ------- -------------------------------- 1.4/6.9 MB 10.8 MB/s eta 0:00:01\n",
      "   ---------- ----------------------------- 1.8/6.9 MB 11.3 MB/s eta 0:00:01\n",
      "   ----------- ---------------------------- 2.0/6.9 MB 10.5 MB/s eta 0:00:01\n",
      "   ----------- ---------------------------- 2.0/6.9 MB 10.5 MB/s eta 0:00:01\n",
      "   ------------- -------------------------- 2.4/6.9 MB 8.3 MB/s eta 0:00:01\n",
      "   -------------- ------------------------- 2.5/6.9 MB 8.3 MB/s eta 0:00:01\n",
      "   ------------------ --------------------- 3.2/6.9 MB 8.8 MB/s eta 0:00:01\n",
      "   -------------------- ------------------- 3.5/6.9 MB 8.7 MB/s eta 0:00:01\n",
      "   ---------------------- ----------------- 3.8/6.9 MB 8.4 MB/s eta 0:00:01\n",
      "   ----------------------- ---------------- 4.1/6.9 MB 8.4 MB/s eta 0:00:01\n",
      "   ------------------------- -------------- 4.3/6.9 MB 8.1 MB/s eta 0:00:01\n",
      "   -------------------------- ------------- 4.6/6.9 MB 8.1 MB/s eta 0:00:01\n",
      "   ---------------------------- ----------- 4.9/6.9 MB 8.0 MB/s eta 0:00:01\n",
      "   ----------------------------- ---------- 5.2/6.9 MB 8.1 MB/s eta 0:00:01\n",
      "   ------------------------------- -------- 5.5/6.9 MB 7.9 MB/s eta 0:00:01\n",
      "   --------------------------------- ------ 5.8/6.9 MB 7.8 MB/s eta 0:00:01\n",
      "   ---------------------------------- ----- 6.0/6.9 MB 7.9 MB/s eta 0:00:01\n",
      "   ------------------------------------ --- 6.3/6.9 MB 7.9 MB/s eta 0:00:01\n",
      "   -------------------------------------- - 6.6/6.9 MB 7.8 MB/s eta 0:00:01\n",
      "   ---------------------------------------  6.9/6.9 MB 7.8 MB/s eta 0:00:01\n",
      "   ---------------------------------------  6.9/6.9 MB 7.9 MB/s eta 0:00:01\n",
      "   ---------------------------------------- 6.9/6.9 MB 7.5 MB/s eta 0:00:00\n",
      "Downloading tenacity-9.1.2-py3-none-any.whl (28 kB)\n",
      "Downloading toml-0.10.2-py2.py3-none-any.whl (16 kB)\n",
      "Downloading gitdb-4.0.12-py3-none-any.whl (62 kB)\n",
      "   ---------------------------------------- 0.0/62.8 kB ? eta -:--:--\n",
      "   ---------------------------------------- 62.8/62.8 kB ? eta 0:00:00\n",
      "Downloading smmap-5.0.2-py3-none-any.whl (24 kB)\n",
      "Installing collected packages: toml, tenacity, smmap, cachetools, pydeck, gitdb, gitpython, altair, streamlit\n",
      "Successfully installed altair-5.5.0 cachetools-5.5.2 gitdb-4.0.12 gitpython-3.1.44 pydeck-0.9.1 smmap-5.0.2 streamlit-1.45.1 tenacity-9.1.2 toml-0.10.2\n",
      "Note: you may need to restart the kernel to use updated packages.\n"
     ]
    }
   ],
   "source": [
    "pip install boto3 pandas streamlit"
   ]
  },
  {
   "cell_type": "code",
   "execution_count": 16,
   "id": "9cc5a431-4077-4f12-8df8-a9350be3f93e",
   "metadata": {},
   "outputs": [
    {
     "name": "stderr",
     "output_type": "stream",
     "text": [
      "2025-06-09 13:56:22.828 WARNING streamlit.runtime.scriptrunner_utils.script_run_context: Thread 'MainThread': missing ScriptRunContext! This warning can be ignored when running in bare mode.\n",
      "2025-06-09 13:56:23.392 \n",
      "  \u001b[33m\u001b[1mWarning:\u001b[0m to view this Streamlit app on a browser, run it with the following\n",
      "  command:\n",
      "\n",
      "    streamlit run C:\\Users\\saira\\anaconda3\\Lib\\site-packages\\ipykernel_launcher.py [ARGUMENTS]\n",
      "2025-06-09 13:56:23.392 Thread 'MainThread': missing ScriptRunContext! This warning can be ignored when running in bare mode.\n",
      "2025-06-09 13:56:24.602 Thread 'MainThread': missing ScriptRunContext! This warning can be ignored when running in bare mode.\n",
      "2025-06-09 13:56:24.602 Thread 'MainThread': missing ScriptRunContext! This warning can be ignored when running in bare mode.\n",
      "2025-06-09 13:56:24.604 Thread 'MainThread': missing ScriptRunContext! This warning can be ignored when running in bare mode.\n",
      "2025-06-09 13:56:24.604 Thread 'MainThread': missing ScriptRunContext! This warning can be ignored when running in bare mode.\n",
      "2025-06-09 13:56:24.604 Session state does not function when running a script without `streamlit run`\n",
      "2025-06-09 13:56:24.608 Thread 'MainThread': missing ScriptRunContext! This warning can be ignored when running in bare mode.\n",
      "2025-06-09 13:56:24.608 Thread 'MainThread': missing ScriptRunContext! This warning can be ignored when running in bare mode.\n",
      "2025-06-09 13:56:25.360 Thread 'MainThread': missing ScriptRunContext! This warning can be ignored when running in bare mode.\n",
      "2025-06-09 13:56:25.361 Thread 'MainThread': missing ScriptRunContext! This warning can be ignored when running in bare mode.\n"
     ]
    },
    {
     "data": {
      "text/plain": [
       "DeltaGenerator()"
      ]
     },
     "execution_count": 16,
     "metadata": {},
     "output_type": "execute_result"
    }
   ],
   "source": [
    "import streamlit as st\n",
    "import boto3\n",
    "import pandas as pd\n",
    "from decimal import Decimal\n",
    "\n",
    "def convert_decimal(obj):\n",
    "    if isinstance(obj, list):\n",
    "        return [convert_decimal(i) for i in obj]\n",
    "    elif isinstance(obj, dict):\n",
    "        return {k: convert_decimal(v) for k, v in obj.items()}\n",
    "    elif isinstance(obj, Decimal):\n",
    "        return float(obj)\n",
    "    else:\n",
    "        return obj\n",
    "\n",
    "st.title(\"Energy Data Dashboard\")\n",
    "\n",
    "dynamodb = boto3.resource('dynamodb')\n",
    "table = dynamodb.Table('energy_data')\n",
    "response = table.scan()\n",
    "data = convert_decimal(response['Items'])\n",
    "\n",
    "df = pd.DataFrame(data)\n",
    "df['timestamp'] = pd.to_datetime(df['timestamp'])\n",
    "\n",
    "site = st.selectbox(\"Select Site ID\", df['site_id'].unique())\n",
    "site_data = df[df['site_id'] == site].sort_values('timestamp')\n",
    "\n",
    "st.line_chart(site_data[['timestamp', 'energy_generated_kwh', 'energy_consumed_kwh']].set_index('timestamp'))\n"
   ]
  },
  {
   "cell_type": "code",
   "execution_count": null,
   "id": "90af7df6-d31a-4b4c-96dd-7d9e7c704744",
   "metadata": {},
   "outputs": [],
   "source": []
  }
 ],
 "metadata": {
  "kernelspec": {
   "display_name": "Python 3 (ipykernel)",
   "language": "python",
   "name": "python3"
  },
  "language_info": {
   "codemirror_mode": {
    "name": "ipython",
    "version": 3
   },
   "file_extension": ".py",
   "mimetype": "text/x-python",
   "name": "python",
   "nbconvert_exporter": "python",
   "pygments_lexer": "ipython3",
   "version": "3.11.13"
  }
 },
 "nbformat": 4,
 "nbformat_minor": 5
}

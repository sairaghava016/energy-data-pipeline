{
 "cells": [
  {
   "cell_type": "code",
   "execution_count": 1,
   "id": "4f0f0f91-d102-4c9e-93ca-1a37750d4bf5",
   "metadata": {},
   "outputs": [
    {
     "name": "stdout",
     "output_type": "stream",
     "text": [
      "Requirement already satisfied: boto3 in c:\\users\\saira\\anaconda3\\lib\\site-packages (1.24.28)\n",
      "Collecting fastapi\n",
      "  Obtaining dependency information for fastapi from https://files.pythonhosted.org/packages/50/b3/b51f09c2ba432a576fe63758bddc81f78f0c6309d9e5c10d194313bf021e/fastapi-0.115.12-py3-none-any.whl.metadata\n",
      "  Downloading fastapi-0.115.12-py3-none-any.whl.metadata (27 kB)\n",
      "Collecting uvicorn\n",
      "  Obtaining dependency information for uvicorn from https://files.pythonhosted.org/packages/6d/0d/8adfeaa62945f90d19ddc461c55f4a50c258af7662d34b6a3d5d1f8646f6/uvicorn-0.34.3-py3-none-any.whl.metadata\n",
      "  Downloading uvicorn-0.34.3-py3-none-any.whl.metadata (6.5 kB)\n",
      "Requirement already satisfied: matplotlib in c:\\users\\saira\\anaconda3\\lib\\site-packages (3.10.0)\n",
      "Requirement already satisfied: seaborn in c:\\users\\saira\\anaconda3\\lib\\site-packages (0.13.2)\n",
      "Requirement already satisfied: plotly in c:\\users\\saira\\anaconda3\\lib\\site-packages (6.0.1)\n",
      "Requirement already satisfied: botocore<1.28.0,>=1.27.28 in c:\\users\\saira\\anaconda3\\lib\\site-packages (from boto3) (1.27.59)\n",
      "Requirement already satisfied: jmespath<2.0.0,>=0.7.1 in c:\\users\\saira\\anaconda3\\lib\\site-packages (from boto3) (1.0.1)\n",
      "Requirement already satisfied: s3transfer<0.7.0,>=0.6.0 in c:\\users\\saira\\anaconda3\\lib\\site-packages (from boto3) (0.6.0)\n",
      "Collecting starlette<0.47.0,>=0.40.0 (from fastapi)\n",
      "  Obtaining dependency information for starlette<0.47.0,>=0.40.0 from https://files.pythonhosted.org/packages/8b/0c/9d30a4ebeb6db2b25a841afbb80f6ef9a854fc3b41be131d249a977b4959/starlette-0.46.2-py3-none-any.whl.metadata\n",
      "  Downloading starlette-0.46.2-py3-none-any.whl.metadata (6.2 kB)\n",
      "Requirement already satisfied: pydantic!=1.8,!=1.8.1,!=2.0.0,!=2.0.1,!=2.1.0,<3.0.0,>=1.7.4 in c:\\users\\saira\\anaconda3\\lib\\site-packages (from fastapi) (2.10.3)\n",
      "Requirement already satisfied: typing-extensions>=4.8.0 in c:\\users\\saira\\anaconda3\\lib\\site-packages (from fastapi) (4.12.2)\n",
      "Requirement already satisfied: click>=7.0 in c:\\users\\saira\\anaconda3\\lib\\site-packages (from uvicorn) (8.1.8)\n",
      "Requirement already satisfied: h11>=0.8 in c:\\users\\saira\\anaconda3\\lib\\site-packages (from uvicorn) (0.16.0)\n",
      "Requirement already satisfied: contourpy>=1.0.1 in c:\\users\\saira\\anaconda3\\lib\\site-packages (from matplotlib) (1.3.1)\n",
      "Requirement already satisfied: cycler>=0.10 in c:\\users\\saira\\anaconda3\\lib\\site-packages (from matplotlib) (0.11.0)\n",
      "Requirement already satisfied: fonttools>=4.22.0 in c:\\users\\saira\\anaconda3\\lib\\site-packages (from matplotlib) (4.55.3)\n",
      "Requirement already satisfied: kiwisolver>=1.3.1 in c:\\users\\saira\\anaconda3\\lib\\site-packages (from matplotlib) (1.4.8)\n",
      "Requirement already satisfied: numpy>=1.23 in c:\\users\\saira\\anaconda3\\lib\\site-packages (from matplotlib) (1.26.4)\n",
      "Requirement already satisfied: packaging>=20.0 in c:\\users\\saira\\anaconda3\\lib\\site-packages (from matplotlib) (24.2)\n",
      "Requirement already satisfied: pillow>=8 in c:\\users\\saira\\anaconda3\\lib\\site-packages (from matplotlib) (11.1.0)\n",
      "Requirement already satisfied: pyparsing>=2.3.1 in c:\\users\\saira\\anaconda3\\lib\\site-packages (from matplotlib) (3.2.0)\n",
      "Requirement already satisfied: python-dateutil>=2.7 in c:\\users\\saira\\anaconda3\\lib\\site-packages (from matplotlib) (2.9.0.post0)\n",
      "Requirement already satisfied: pandas>=1.2 in c:\\users\\saira\\anaconda3\\lib\\site-packages (from seaborn) (2.2.3)\n",
      "Requirement already satisfied: narwhals>=1.15.1 in c:\\users\\saira\\anaconda3\\lib\\site-packages (from plotly) (1.31.0)\n",
      "Requirement already satisfied: urllib3<1.27,>=1.25.4 in c:\\users\\saira\\anaconda3\\lib\\site-packages (from botocore<1.28.0,>=1.27.28->boto3) (1.26.19)\n",
      "Requirement already satisfied: colorama in c:\\users\\saira\\anaconda3\\lib\\site-packages (from click>=7.0->uvicorn) (0.4.6)\n",
      "Requirement already satisfied: pytz>=2020.1 in c:\\users\\saira\\anaconda3\\lib\\site-packages (from pandas>=1.2->seaborn) (2024.1)\n",
      "Requirement already satisfied: tzdata>=2022.7 in c:\\users\\saira\\anaconda3\\lib\\site-packages (from pandas>=1.2->seaborn) (2025.2)\n",
      "Requirement already satisfied: annotated-types>=0.6.0 in c:\\users\\saira\\anaconda3\\lib\\site-packages (from pydantic!=1.8,!=1.8.1,!=2.0.0,!=2.0.1,!=2.1.0,<3.0.0,>=1.7.4->fastapi) (0.6.0)\n",
      "Requirement already satisfied: pydantic-core==2.27.1 in c:\\users\\saira\\anaconda3\\lib\\site-packages (from pydantic!=1.8,!=1.8.1,!=2.0.0,!=2.0.1,!=2.1.0,<3.0.0,>=1.7.4->fastapi) (2.27.1)\n",
      "Requirement already satisfied: six>=1.5 in c:\\users\\saira\\anaconda3\\lib\\site-packages (from python-dateutil>=2.7->matplotlib) (1.17.0)\n",
      "Requirement already satisfied: anyio<5,>=3.6.2 in c:\\users\\saira\\anaconda3\\lib\\site-packages (from starlette<0.47.0,>=0.40.0->fastapi) (4.7.0)\n",
      "Requirement already satisfied: idna>=2.8 in c:\\users\\saira\\anaconda3\\lib\\site-packages (from anyio<5,>=3.6.2->starlette<0.47.0,>=0.40.0->fastapi) (3.7)\n",
      "Requirement already satisfied: sniffio>=1.1 in c:\\users\\saira\\anaconda3\\lib\\site-packages (from anyio<5,>=3.6.2->starlette<0.47.0,>=0.40.0->fastapi) (1.3.0)\n",
      "Downloading fastapi-0.115.12-py3-none-any.whl (95 kB)\n",
      "   ---------------------------------------- 0.0/95.2 kB ? eta -:--:--\n",
      "   ---- ----------------------------------- 10.2/95.2 kB ? eta -:--:--\n",
      "   ------------------------------ --------- 71.7/95.2 kB 991.0 kB/s eta 0:00:01\n",
      "   ---------------------------------------- 95.2/95.2 kB 1.1 MB/s eta 0:00:00\n",
      "Downloading uvicorn-0.34.3-py3-none-any.whl (62 kB)\n",
      "   ---------------------------------------- 0.0/62.4 kB ? eta -:--:--\n",
      "   ---------------------------------------- 62.4/62.4 kB ? eta 0:00:00\n",
      "Downloading starlette-0.46.2-py3-none-any.whl (72 kB)\n",
      "   ---------------------------------------- 0.0/72.0 kB ? eta -:--:--\n",
      "   ---------------------------------------- 72.0/72.0 kB 3.9 MB/s eta 0:00:00\n",
      "Installing collected packages: uvicorn, starlette, fastapi\n",
      "Successfully installed fastapi-0.115.12 starlette-0.46.2 uvicorn-0.34.3\n"
     ]
    },
    {
     "name": "stderr",
     "output_type": "stream",
     "text": [
      "WARNING: Skipping C:\\Users\\saira\\anaconda3\\Lib\\site-packages\\numpy-1.24.3.dist-info due to invalid metadata entry 'name'\n",
      "WARNING: Skipping C:\\Users\\saira\\anaconda3\\Lib\\site-packages\\numpy-1.24.3.dist-info due to invalid metadata entry 'name'\n",
      "WARNING: Skipping C:\\Users\\saira\\anaconda3\\Lib\\site-packages\\numpy-1.24.3.dist-info due to invalid metadata entry 'name'\n",
      "WARNING: Skipping C:\\Users\\saira\\anaconda3\\Lib\\site-packages\\numpy-1.24.3.dist-info due to invalid metadata entry 'name'\n",
      "WARNING: Skipping C:\\Users\\saira\\anaconda3\\Lib\\site-packages\\numpy-1.24.3.dist-info due to invalid metadata entry 'name'\n",
      "WARNING: Skipping C:\\Users\\saira\\anaconda3\\Lib\\site-packages\\numpy-1.24.3.dist-info due to invalid metadata entry 'name'\n",
      "WARNING: Skipping C:\\Users\\saira\\anaconda3\\Lib\\site-packages\\numpy-1.24.3.dist-info due to invalid metadata entry 'name'\n",
      "WARNING: Skipping C:\\Users\\saira\\anaconda3\\Lib\\site-packages\\numpy-1.24.3.dist-info due to invalid metadata entry 'name'\n"
     ]
    }
   ],
   "source": [
    "!pip install boto3 fastapi uvicorn matplotlib seaborn plotly"
   ]
  },
  {
   "cell_type": "code",
   "execution_count": 2,
   "id": "02f4bcbb-63db-4d57-a812-ea0937a650af",
   "metadata": {},
   "outputs": [
    {
     "name": "stderr",
     "output_type": "stream",
     "text": [
      "WARNING: Skipping C:\\Users\\saira\\anaconda3\\Lib\\site-packages\\numpy-1.24.3.dist-info due to invalid metadata entry 'name'\n"
     ]
    }
   ],
   "source": [
    "!pip freeze > requirements.txt"
   ]
  },
  {
   "cell_type": "code",
   "execution_count": 3,
   "id": "fcec21ee-22a6-426c-9ada-86f39a024ba5",
   "metadata": {},
   "outputs": [
    {
     "name": "stdout",
     "output_type": "stream",
     "text": [
      "Found existing installation: numpy 1.26.4\n",
      "Uninstalling numpy-1.26.4:\n",
      "  Successfully uninstalled numpy-1.26.4\n"
     ]
    },
    {
     "name": "stderr",
     "output_type": "stream",
     "text": [
      "WARNING: Skipping C:\\Users\\saira\\anaconda3\\Lib\\site-packages\\numpy-1.24.3.dist-info due to invalid metadata entry 'name'\n",
      "WARNING: Skipping C:\\Users\\saira\\anaconda3\\Lib\\site-packages\\numpy-1.24.3.dist-info due to invalid metadata entry 'name'\n"
     ]
    }
   ],
   "source": [
    "!pip uninstall -y numpy"
   ]
  },
  {
   "cell_type": "code",
   "execution_count": 4,
   "id": "48dfd296-e8f1-4f9d-a305-86458e66aede",
   "metadata": {},
   "outputs": [
    {
     "name": "stdout",
     "output_type": "stream",
     "text": [
      "Collecting numpy\n",
      "  Obtaining dependency information for numpy from https://files.pythonhosted.org/packages/31/0a/f354fb7176b81747d870f7991dc763e157a934c717b67b58456bc63da3df/numpy-2.2.6-cp311-cp311-win_amd64.whl.metadata\n",
      "  Downloading numpy-2.2.6-cp311-cp311-win_amd64.whl.metadata (60 kB)\n",
      "     ---------------------------------------- 0.0/60.8 kB ? eta -:--:--\n",
      "     ------ --------------------------------- 10.2/60.8 kB ? eta -:--:--\n",
      "     ------------ ------------------------- 20.5/60.8 kB 330.3 kB/s eta 0:00:01\n",
      "     ------------------------------- ------ 51.2/60.8 kB 375.8 kB/s eta 0:00:01\n",
      "     -------------------------------------- 60.8/60.8 kB 404.8 kB/s eta 0:00:00\n",
      "Downloading numpy-2.2.6-cp311-cp311-win_amd64.whl (12.9 MB)\n",
      "   ---------------------------------------- 0.0/12.9 MB ? eta -:--:--\n",
      "   ---------------------------------------- 0.1/12.9 MB 2.6 MB/s eta 0:00:06\n",
      "    --------------------------------------- 0.3/12.9 MB 3.1 MB/s eta 0:00:05\n",
      "   --- ------------------------------------ 1.0/12.9 MB 7.9 MB/s eta 0:00:02\n",
      "   ------- -------------------------------- 2.3/12.9 MB 13.3 MB/s eta 0:00:01\n",
      "   ------------ --------------------------- 3.9/12.9 MB 16.5 MB/s eta 0:00:01\n",
      "   ----------------- ---------------------- 5.8/12.9 MB 21.8 MB/s eta 0:00:01\n",
      "   ----------------------- ---------------- 7.7/12.9 MB 24.5 MB/s eta 0:00:01\n",
      "   ---------------------------- ----------- 9.2/12.9 MB 25.6 MB/s eta 0:00:01\n",
      "   --------------------------------- ------ 10.8/12.9 MB 36.4 MB/s eta 0:00:01\n",
      "   -------------------------------------- - 12.3/12.9 MB 38.5 MB/s eta 0:00:01\n",
      "   ---------------------------------------  12.9/12.9 MB 38.5 MB/s eta 0:00:01\n",
      "   ---------------------------------------  12.9/12.9 MB 38.5 MB/s eta 0:00:01\n",
      "   ---------------------------------------  12.9/12.9 MB 29.7 MB/s eta 0:00:01\n",
      "   ---------------------------------------- 12.9/12.9 MB 26.1 MB/s eta 0:00:00\n",
      "Installing collected packages: numpy\n",
      "Successfully installed numpy-2.2.6\n"
     ]
    },
    {
     "name": "stderr",
     "output_type": "stream",
     "text": [
      "ERROR: pip's dependency resolver does not currently take into account all the packages that are installed. This behaviour is the source of the following dependency conflicts.\n",
      "transformers 2.1.1 requires sentencepiece, which is not installed.\n",
      "astropy 5.3.4 requires numpy<2,>=1.21, but you have numpy 2.2.6 which is incompatible.\n",
      "gensim 4.3.3 requires numpy<2.0,>=1.18.5, but you have numpy 2.2.6 which is incompatible.\n",
      "numba 0.61.0 requires numpy<2.2,>=1.24, but you have numpy 2.2.6 which is incompatible.\n",
      "tensorflow-intel 2.18.0 requires numpy<2.1.0,>=1.26.0, but you have numpy 2.2.6 which is incompatible.\n"
     ]
    }
   ],
   "source": [
    "!pip install numpy"
   ]
  },
  {
   "cell_type": "code",
   "execution_count": 5,
   "id": "8ebcee34-841c-4925-b5c5-c14e870e7845",
   "metadata": {},
   "outputs": [
    {
     "name": "stdout",
     "output_type": "stream",
     "text": [
      "Collecting numpy==1.26.4\n",
      "  Obtaining dependency information for numpy==1.26.4 from https://files.pythonhosted.org/packages/3f/6b/5610004206cf7f8e7ad91c5a85a8c71b2f2f8051a0c0c4d5916b76d6cbb2/numpy-1.26.4-cp311-cp311-win_amd64.whl.metadata\n",
      "  Downloading numpy-1.26.4-cp311-cp311-win_amd64.whl.metadata (61 kB)\n",
      "     ---------------------------------------- 0.0/61.0 kB ? eta -:--:--\n",
      "     ------ --------------------------------- 10.2/61.0 kB ? eta -:--:--\n",
      "     ------------ ------------------------- 20.5/61.0 kB 330.3 kB/s eta 0:00:01\n",
      "     ------------------------- ------------ 41.0/61.0 kB 495.5 kB/s eta 0:00:01\n",
      "     -------------------------------------- 61.0/61.0 kB 406.4 kB/s eta 0:00:00\n",
      "Downloading numpy-1.26.4-cp311-cp311-win_amd64.whl (15.8 MB)\n",
      "   ---------------------------------------- 0.0/15.8 MB ? eta -:--:--\n",
      "   ---------------------------------------- 0.1/15.8 MB 1.7 MB/s eta 0:00:10\n",
      "    --------------------------------------- 0.2/15.8 MB 2.5 MB/s eta 0:00:07\n",
      "   - -------------------------------------- 0.5/15.8 MB 4.4 MB/s eta 0:00:04\n",
      "   -- ------------------------------------- 1.2/15.8 MB 6.7 MB/s eta 0:00:03\n",
      "   ------ --------------------------------- 2.5/15.8 MB 12.1 MB/s eta 0:00:02\n",
      "   ----------- ---------------------------- 4.5/15.8 MB 16.9 MB/s eta 0:00:01\n",
      "   ---------------- ----------------------- 6.4/15.8 MB 20.3 MB/s eta 0:00:01\n",
      "   ------------------- -------------------- 7.5/15.8 MB 21.9 MB/s eta 0:00:01\n",
      "   ----------------------- ---------------- 9.2/15.8 MB 23.5 MB/s eta 0:00:01\n",
      "   ---------------------------- ----------- 11.2/15.8 MB 34.4 MB/s eta 0:00:01\n",
      "   --------------------------------- ------ 13.3/15.8 MB 38.5 MB/s eta 0:00:01\n",
      "   ---------------------------------- ----- 13.5/15.8 MB 38.5 MB/s eta 0:00:01\n",
      "   ---------------------------------------  15.8/15.8 MB 38.6 MB/s eta 0:00:01\n",
      "   ---------------------------------------- 15.8/15.8 MB 32.8 MB/s eta 0:00:00\n",
      "Installing collected packages: numpy\n",
      "  Attempting uninstall: numpy\n",
      "    Found existing installation: numpy 2.2.6\n",
      "    Uninstalling numpy-2.2.6:\n",
      "      Successfully uninstalled numpy-2.2.6\n",
      "Successfully installed numpy-1.26.4\n"
     ]
    },
    {
     "name": "stderr",
     "output_type": "stream",
     "text": [
      "ERROR: pip's dependency resolver does not currently take into account all the packages that are installed. This behaviour is the source of the following dependency conflicts.\n",
      "transformers 2.1.1 requires sentencepiece, which is not installed.\n"
     ]
    }
   ],
   "source": [
    "!pip install numpy==1.26.4"
   ]
  },
  {
   "cell_type": "code",
   "execution_count": 6,
   "id": "259ae17d-5fd9-4673-a476-bc4fe19a1b10",
   "metadata": {},
   "outputs": [
    {
     "name": "stdout",
     "output_type": "stream",
     "text": [
      "Collecting sentencepiece\n",
      "  Obtaining dependency information for sentencepiece from https://files.pythonhosted.org/packages/a2/f6/587c62fd21fc988555b85351f50bbde43a51524caafd63bc69240ded14fd/sentencepiece-0.2.0-cp311-cp311-win_amd64.whl.metadata\n",
      "  Downloading sentencepiece-0.2.0-cp311-cp311-win_amd64.whl.metadata (8.3 kB)\n",
      "Downloading sentencepiece-0.2.0-cp311-cp311-win_amd64.whl (991 kB)\n",
      "   ---------------------------------------- 0.0/991.5 kB ? eta -:--:--\n",
      "   ---------------------------------------- 10.2/991.5 kB ? eta -:--:--\n",
      "   - ------------------------------------- 30.7/991.5 kB 435.7 kB/s eta 0:00:03\n",
      "   -- ------------------------------------ 71.7/991.5 kB 558.5 kB/s eta 0:00:02\n",
      "   ---------- ----------------------------- 256.0/991.5 kB 1.6 MB/s eta 0:00:01\n",
      "   ---------------------------- ----------- 706.6/991.5 kB 3.4 MB/s eta 0:00:01\n",
      "   ---------------------------------------- 991.5/991.5 kB 4.5 MB/s eta 0:00:00\n",
      "Installing collected packages: sentencepiece\n",
      "Successfully installed sentencepiece-0.2.0\n"
     ]
    }
   ],
   "source": [
    "!pip install sentencepiece"
   ]
  },
  {
   "cell_type": "code",
   "execution_count": 7,
   "id": "61a170a5-f872-429f-9bfe-4f8de71a3315",
   "metadata": {},
   "outputs": [],
   "source": [
    "!pip freeze > requirements.txt"
   ]
  },
  {
   "cell_type": "code",
   "execution_count": 8,
   "id": "0dd1b78c-2ea1-4340-be98-9ac71b018c58",
   "metadata": {},
   "outputs": [],
   "source": [
    "import os\n",
    "\n",
    "folders = [\n",
    "    \"data_simulator\",\n",
    "    \"lambda_processor\",\n",
    "    \"api\",\n",
    "    \"visualization\",\n",
    "    \"terraform\"\n",
    "]\n",
    "\n",
    "for folder in folders:\n",
    "    os.makedirs(folder, exist_ok=True)\n",
    "\n",
    "# Create empty files\n",
    "open(\"README.md\", \"w\").close()\n",
    "open(\".gitignore\", \"w\").close()\n",
    "open(\"data_simulator/simulator.py\", \"w\").close()\n",
    "open(\"lambda_processor/lambda_function.py\", \"w\").close()\n",
    "open(\"api/main.py\", \"w\").close()\n",
    "open(\"visualization/visualize.py\", \"w\").close()\n",
    "open(\"terraform/main.tf\", \"w\").close()"
   ]
  },
  {
   "cell_type": "code",
   "execution_count": 9,
   "id": "7b4c604a-9bfb-4041-a282-9a4062a6f4d2",
   "metadata": {},
   "outputs": [],
   "source": [
    "with open(\".gitignore\", \"w\") as f:\n",
    "    f.write(\"\"\"\n",
    "__pycache__/\n",
    "*.py[cod]\n",
    "venv/\n",
    ".env\n",
    ".terraform/\n",
    "*.tfstate\n",
    "*.pem\n",
    ".idea/\n",
    ".vscode/\n",
    "\"\"\")"
   ]
  },
  {
   "cell_type": "code",
   "execution_count": 1,
   "id": "0e716342-47c0-418d-b39b-874a58a5582f",
   "metadata": {},
   "outputs": [
    {
     "data": {
      "text/plain": [
       "5"
      ]
     },
     "execution_count": 1,
     "metadata": {},
     "output_type": "execute_result"
    }
   ],
   "source": [
    "3+2"
   ]
  },
  {
   "cell_type": "code",
   "execution_count": null,
   "id": "3af1d97c-055c-47d4-92e1-97f7a78db7f7",
   "metadata": {},
   "outputs": [],
   "source": []
  }
 ],
 "metadata": {
  "kernelspec": {
   "display_name": "Python 3 (ipykernel)",
   "language": "python",
   "name": "python3"
  },
  "language_info": {
   "codemirror_mode": {
    "name": "ipython",
    "version": 3
   },
   "file_extension": ".py",
   "mimetype": "text/x-python",
   "name": "python",
   "nbconvert_exporter": "python",
   "pygments_lexer": "ipython3",
   "version": "3.11.13"
  }
 },
 "nbformat": 4,
 "nbformat_minor": 5
}
